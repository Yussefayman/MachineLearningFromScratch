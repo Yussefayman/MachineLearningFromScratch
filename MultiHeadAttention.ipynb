{
  "nbformat": 4,
  "nbformat_minor": 0,
  "metadata": {
    "colab": {
      "provenance": [],
      "authorship_tag": "ABX9TyNFewK4Wt/dPI19jwL0Eh16"
    },
    "kernelspec": {
      "name": "python3",
      "display_name": "Python 3"
    },
    "language_info": {
      "name": "python"
    }
  },
  "cells": [
    {
      "cell_type": "code",
      "execution_count": 5,
      "metadata": {
        "id": "bm3UdMdjEIOs"
      },
      "outputs": [],
      "source": [
        "import numpy as np\n",
        "import math\n",
        "import torch\n",
        "import torch.nn as nn\n",
        "import torch.nn.functional as F"
      ]
    },
    {
      "cell_type": "code",
      "source": [
        "sequence_length = 4\n",
        "batch_size = 1\n",
        "input_dim = 512\n",
        "d_model = 512\n",
        "x = torch.randn((batch_size,sequence_length,input_dim))"
      ],
      "metadata": {
        "id": "YIvd0ktyVA2b"
      },
      "execution_count": 6,
      "outputs": []
    },
    {
      "cell_type": "code",
      "source": [
        "x.size()"
      ],
      "metadata": {
        "colab": {
          "base_uri": "https://localhost:8080/"
        },
        "id": "kTlw-bJLVTz6",
        "outputId": "f6d2708e-f50e-4c99-ee4a-0709bcc1f341"
      },
      "execution_count": 7,
      "outputs": [
        {
          "output_type": "execute_result",
          "data": {
            "text/plain": [
              "torch.Size([1, 4, 512])"
            ]
          },
          "metadata": {},
          "execution_count": 7
        }
      ]
    },
    {
      "cell_type": "markdown",
      "source": [
        "<img src=\"https://production-media.paperswithcode.com/methods/multi-head-attention_l1A3G7a.png\" alt=\"Description of the image\" width=\"400\"/>\n"
      ],
      "metadata": {
        "id": "bie__pQqVz7c"
      }
    },
    {
      "cell_type": "code",
      "source": [
        "qkv_layer = nn.Linear(input_dim,3*d_model)"
      ],
      "metadata": {
        "id": "ArXpyafMVU91"
      },
      "execution_count": 8,
      "outputs": []
    },
    {
      "cell_type": "code",
      "source": [
        "qkv = qkv_layer(x)"
      ],
      "metadata": {
        "id": "3CAgPqG0W7Rx"
      },
      "execution_count": 9,
      "outputs": []
    },
    {
      "cell_type": "code",
      "source": [
        "qkv.shape"
      ],
      "metadata": {
        "colab": {
          "base_uri": "https://localhost:8080/"
        },
        "id": "gIQE4Kk8XFFz",
        "outputId": "85aaae43-a23f-410c-ab9b-a33f8698db4c"
      },
      "execution_count": 10,
      "outputs": [
        {
          "output_type": "execute_result",
          "data": {
            "text/plain": [
              "torch.Size([1, 4, 1536])"
            ]
          },
          "metadata": {},
          "execution_count": 10
        }
      ]
    },
    {
      "cell_type": "code",
      "source": [
        "import matplotlib.pyplot as plt\n",
        "y_val = torch.histc(qkv,bins=200,min=-3,max=3)\n",
        "x_val = np.arange(-1,1,0.01) * 3\n",
        "plt.bar(x_val,y_val,align='center',color=['forestgreen'])\n",
        "plt.title('qkv distribution');"
      ],
      "metadata": {
        "colab": {
          "base_uri": "https://localhost:8080/",
          "height": 452
        },
        "id": "Fl3izwOXXGNa",
        "outputId": "7f9bfd1c-a6a1-4075-89a1-95e39be975a2"
      },
      "execution_count": 11,
      "outputs": [
        {
          "output_type": "display_data",
          "data": {
            "text/plain": [
              "<Figure size 640x480 with 1 Axes>"
            ],
            "image/png": "[encoded data removed]"
          },
          "metadata": {}
        }
      ]
    },
    {
      "cell_type": "code",
      "source": [
        "num_heads = 8\n",
        "head_dim = d_model // num_heads\n",
        "qkv = qkv.reshape(batch_size,sequence_length,num_heads,3*head_dim)"
      ],
      "metadata": {
        "id": "dYxt6lvEXKp7"
      },
      "execution_count": 12,
      "outputs": []
    },
    {
      "cell_type": "code",
      "source": [
        "qkv.shape"
      ],
      "metadata": {
        "colab": {
          "base_uri": "https://localhost:8080/"
        },
        "id": "6EMKnD6IXNuS",
        "outputId": "7da5ae14-1bd6-44b9-dfd6-351f388d55fa"
      },
      "execution_count": 13,
      "outputs": [
        {
          "output_type": "execute_result",
          "data": {
            "text/plain": [
              "torch.Size([1, 4, 8, 192])"
            ]
          },
          "metadata": {},
          "execution_count": 13
        }
      ]
    },
    {
      "cell_type": "code",
      "source": [
        "qkv = qkv.permute(0,2,1,3) # [batch_size,num_heads,sequence_length,3*head_dim]\n",
        "qkv.shape"
      ],
      "metadata": {
        "colab": {
          "base_uri": "https://localhost:8080/"
        },
        "id": "MPyTMT4GXOP6",
        "outputId": "725e350e-f82f-4217-a51e-d94293dac159"
      },
      "execution_count": 14,
      "outputs": [
        {
          "output_type": "execute_result",
          "data": {
            "text/plain": [
              "torch.Size([1, 8, 4, 192])"
            ]
          },
          "metadata": {},
          "execution_count": 14
        }
      ]
    },
    {
      "cell_type": "code",
      "source": [
        "q, k, v = qkv.chunk(3,dim=-1)\n",
        "q.shape, k.shape, v.shape"
      ],
      "metadata": {
        "colab": {
          "base_uri": "https://localhost:8080/"
        },
        "id": "sT4MTdxYXOJi",
        "outputId": "2e65739d-0c70-43e0-bd8e-785940f968e3"
      },
      "execution_count": 15,
      "outputs": [
        {
          "output_type": "execute_result",
          "data": {
            "text/plain": [
              "(torch.Size([1, 8, 4, 64]),\n",
              " torch.Size([1, 8, 4, 64]),\n",
              " torch.Size([1, 8, 4, 64]))"
            ]
          },
          "metadata": {},
          "execution_count": 15
        }
      ]
    },
    {
      "cell_type": "markdown",
      "source": [
        "## Self Attention for multiple heads"
      ],
      "metadata": {
        "id": "oLcf-G3Xa98Y"
      }
    },
    {
      "cell_type": "markdown",
      "source": [
        "$$ \\text{self attention} = \\text{softmax}\\bigg(\\frac{Q \\cdot K^T}{\\sqrt{d_k}} + M\\bigg) $$\n"
      ],
      "metadata": {
        "id": "Q4L2EF2pbPh6"
      }
    },
    {
      "cell_type": "markdown",
      "source": [
        "$$ \\text{new V} = \\text{self attention} \\cdot V $$\n"
      ],
      "metadata": {
        "id": "8_3zVc2ob9Vw"
      }
    },
    {
      "cell_type": "code",
      "source": [
        "q.size(),k.transpose(-2,-1).size()"
      ],
      "metadata": {
        "colab": {
          "base_uri": "https://localhost:8080/"
        },
        "id": "tVNkE_QOf9Gd",
        "outputId": "ef5c62cf-dc9d-4df7-d4cd-83d614bf0116"
      },
      "execution_count": 16,
      "outputs": [
        {
          "output_type": "execute_result",
          "data": {
            "text/plain": [
              "(torch.Size([1, 8, 4, 64]), torch.Size([1, 8, 64, 4]))"
            ]
          },
          "metadata": {},
          "execution_count": 16
        }
      ]
    },
    {
      "cell_type": "code",
      "source": [
        "#4,64 64,4"
      ],
      "metadata": {
        "id": "UAalMXJwgNCM"
      },
      "execution_count": 17,
      "outputs": []
    },
    {
      "cell_type": "code",
      "source": [
        "d_k = q.size()[-1]\n",
        "scaled = torch.matmul(q,k.transpose(-2,-1)) / math.sqrt(d_k)\n",
        "scaled.shape"
      ],
      "metadata": {
        "colab": {
          "base_uri": "https://localhost:8080/"
        },
        "id": "PrQ4NbSNXOCi",
        "outputId": "1d82d5d3-b8b7-4b1c-8620-f6cf1f5f6d58"
      },
      "execution_count": 18,
      "outputs": [
        {
          "output_type": "execute_result",
          "data": {
            "text/plain": [
              "torch.Size([1, 8, 4, 4])"
            ]
          },
          "metadata": {},
          "execution_count": 18
        }
      ]
    },
    {
      "cell_type": "code",
      "source": [
        "k.T.shape"
      ],
      "metadata": {
        "colab": {
          "base_uri": "https://localhost:8080/"
        },
        "id": "IBftAkm4ck-h",
        "outputId": "d72f679a-9add-45bf-cc57-1028472ccdf9"
      },
      "execution_count": 19,
      "outputs": [
        {
          "output_type": "stream",
          "name": "stderr",
          "text": [
            "<ipython-input-19-879c2705464e>:1: UserWarning: The use of `x.T` on tensors of dimension other than 2 to reverse their shape is deprecated and it will throw an error in a future release. Consider `x.mT` to transpose batches of matrices or `x.permute(*torch.arange(x.ndim - 1, -1, -1))` to reverse the dimensions of a tensor. (Triggered internally at ../aten/src/ATen/native/TensorShape.cpp:3614.)\n",
            "  k.T.shape\n"
          ]
        },
        {
          "output_type": "execute_result",
          "data": {
            "text/plain": [
              "torch.Size([64, 4, 8, 1])"
            ]
          },
          "metadata": {},
          "execution_count": 19
        }
      ]
    },
    {
      "cell_type": "code",
      "source": [
        "y = torch.randn(2,3)\n",
        "torch.transpose(y,0,1)"
      ],
      "metadata": {
        "colab": {
          "base_uri": "https://localhost:8080/"
        },
        "id": "Pf5x2FaKeXly",
        "outputId": "dacf6843-37f3-43cd-91fa-cbb054c5b93e"
      },
      "execution_count": 20,
      "outputs": [
        {
          "output_type": "execute_result",
          "data": {
            "text/plain": [
              "tensor([[-0.1817, -0.2143],\n",
              "        [-1.6709,  0.2364],\n",
              "        [ 0.2350, -1.1124]])"
            ]
          },
          "metadata": {},
          "execution_count": 20
        }
      ]
    },
    {
      "cell_type": "code",
      "source": [
        "torch.transpose(y,1,0)"
      ],
      "metadata": {
        "colab": {
          "base_uri": "https://localhost:8080/"
        },
        "id": "x0edmtYLeiFS",
        "outputId": "44a47d63-0f7a-4564-99b3-004623ab0189"
      },
      "execution_count": 21,
      "outputs": [
        {
          "output_type": "execute_result",
          "data": {
            "text/plain": [
              "tensor([[-0.1817, -0.2143],\n",
              "        [-1.6709,  0.2364],\n",
              "        [ 0.2350, -1.1124]])"
            ]
          },
          "metadata": {},
          "execution_count": 21
        }
      ]
    },
    {
      "cell_type": "code",
      "source": [
        "torch.all(k.transpose(-1, -2) == k.transpose(-2, -1))"
      ],
      "metadata": {
        "colab": {
          "base_uri": "https://localhost:8080/"
        },
        "id": "hM0Lr4a-epVX",
        "outputId": "0a920876-583a-4afa-d206-96d87b6b495b"
      },
      "execution_count": 22,
      "outputs": [
        {
          "output_type": "execute_result",
          "data": {
            "text/plain": [
              "tensor(True)"
            ]
          },
          "metadata": {},
          "execution_count": 22
        }
      ]
    },
    {
      "cell_type": "code",
      "source": [
        "k.transpose(-1,-2).shape"
      ],
      "metadata": {
        "colab": {
          "base_uri": "https://localhost:8080/"
        },
        "id": "hzayIONNeuDa",
        "outputId": "02f03f25-a3c5-488f-ce32-513cc9f4c3be"
      },
      "execution_count": 23,
      "outputs": [
        {
          "output_type": "execute_result",
          "data": {
            "text/plain": [
              "torch.Size([1, 8, 64, 4])"
            ]
          },
          "metadata": {},
          "execution_count": 23
        }
      ]
    },
    {
      "cell_type": "code",
      "source": [
        "mask = torch.full(scaled.size(),float('-inf'))\n",
        "mask = torch.triu(mask,diagonal=1)\n",
        "mask[0][1]"
      ],
      "metadata": {
        "colab": {
          "base_uri": "https://localhost:8080/"
        },
        "id": "IVvsbjWFe_Vn",
        "outputId": "c4cbdc3f-42f6-4e4a-fc4f-7978aadaf7cb"
      },
      "execution_count": 24,
      "outputs": [
        {
          "output_type": "execute_result",
          "data": {
            "text/plain": [
              "tensor([[0., -inf, -inf, -inf],\n",
              "        [0., 0., -inf, -inf],\n",
              "        [0., 0., 0., -inf],\n",
              "        [0., 0., 0., 0.]])"
            ]
          },
          "metadata": {},
          "execution_count": 24
        }
      ]
    },
    {
      "cell_type": "code",
      "source": [
        "(scaled+mask)"
      ],
      "metadata": {
        "colab": {
          "base_uri": "https://localhost:8080/"
        },
        "id": "p9DPJgEMfJwv",
        "outputId": "a891b869-918f-46b5-f23b-5cf59c2b7d2c"
      },
      "execution_count": 25,
      "outputs": [
        {
          "output_type": "execute_result",
          "data": {
            "text/plain": [
              "tensor([[[[-0.0868,    -inf,    -inf,    -inf],\n",
              "          [-0.0809, -0.1379,    -inf,    -inf],\n",
              "          [-0.0877,  0.0073, -0.0232,    -inf],\n",
              "          [ 0.8311,  0.0758, -0.3298, -0.1760]],\n",
              "\n",
              "         [[-0.4395,    -inf,    -inf,    -inf],\n",
              "          [-0.3159, -0.2289,    -inf,    -inf],\n",
              "          [-0.0331,  0.2336,  0.4846,    -inf],\n",
              "          [ 0.3386,  0.0266, -0.2299,  0.2511]],\n",
              "\n",
              "         [[-0.0304,    -inf,    -inf,    -inf],\n",
              "          [-0.0036, -0.1700,    -inf,    -inf],\n",
              "          [ 0.2380,  0.0655,  0.2677,    -inf],\n",
              "          [ 0.0827, -0.4907, -0.0117,  0.2669]],\n",
              "\n",
              "         [[-0.2559,    -inf,    -inf,    -inf],\n",
              "          [-0.2146,  0.0042,    -inf,    -inf],\n",
              "          [ 0.6631, -0.3793, -0.2450,    -inf],\n",
              "          [ 0.4865,  0.0244, -0.0579,  0.0580]],\n",
              "\n",
              "         [[-0.1099,    -inf,    -inf,    -inf],\n",
              "          [-0.5228, -0.0950,    -inf,    -inf],\n",
              "          [-0.5310, -0.0476, -0.5859,    -inf],\n",
              "          [-0.3061,  0.3599,  0.6858, -0.2863]],\n",
              "\n",
              "         [[ 0.5561,    -inf,    -inf,    -inf],\n",
              "          [ 0.0848, -0.2602,    -inf,    -inf],\n",
              "          [-0.2697, -0.0192,  0.2792,    -inf],\n",
              "          [ 0.0432, -0.1441,  0.2077,  0.4886]],\n",
              "\n",
              "         [[ 0.2942,    -inf,    -inf,    -inf],\n",
              "          [-0.3590,  0.3357,    -inf,    -inf],\n",
              "          [ 0.1557, -0.5117,  0.2379,    -inf],\n",
              "          [ 0.7072,  0.1009, -0.1642,  0.0302]],\n",
              "\n",
              "         [[-0.5672,    -inf,    -inf,    -inf],\n",
              "          [-0.4204, -0.1298,    -inf,    -inf],\n",
              "          [ 0.1640, -0.1407, -0.0441,    -inf],\n",
              "          [ 0.2005,  0.1122,  0.0163, -0.0310]]]], grad_fn=<AddBackward0>)"
            ]
          },
          "metadata": {},
          "execution_count": 25
        }
      ]
    },
    {
      "cell_type": "code",
      "source": [
        "scaled+=mask"
      ],
      "metadata": {
        "id": "ZBP-4cIKi97t"
      },
      "execution_count": 26,
      "outputs": []
    },
    {
      "cell_type": "code",
      "source": [
        "np.exp(0.5596) / (np.exp(0.5596) + np.exp(0.0404))\n"
      ],
      "metadata": {
        "colab": {
          "base_uri": "https://localhost:8080/"
        },
        "id": "jq1gxsKvfbI_",
        "outputId": "665f9e15-ecc2-41a4-a05c-167e14253667"
      },
      "execution_count": 27,
      "outputs": [
        {
          "output_type": "execute_result",
          "data": {
            "text/plain": [
              "0.6269606805367254"
            ]
          },
          "metadata": {},
          "execution_count": 27
        }
      ]
    },
    {
      "cell_type": "code",
      "source": [
        "attention = F.softmax(scaled, dim=-1)\n"
      ],
      "metadata": {
        "id": "4JY7_b3vjB8m"
      },
      "execution_count": 28,
      "outputs": []
    },
    {
      "cell_type": "code",
      "source": [
        "attention.shape"
      ],
      "metadata": {
        "colab": {
          "base_uri": "https://localhost:8080/"
        },
        "id": "VDV7Gfg6mvmC",
        "outputId": "a582b3b1-4fa7-4261-bcf9-7cb4f906743d"
      },
      "execution_count": 29,
      "outputs": [
        {
          "output_type": "execute_result",
          "data": {
            "text/plain": [
              "torch.Size([1, 8, 4, 4])"
            ]
          },
          "metadata": {},
          "execution_count": 29
        }
      ]
    },
    {
      "cell_type": "code",
      "source": [
        "attention[0][0]"
      ],
      "metadata": {
        "colab": {
          "base_uri": "https://localhost:8080/"
        },
        "id": "ejw7eHq1m0Uj",
        "outputId": "2b1a1bc9-cbc9-49b7-9574-52ffd70fb39d"
      },
      "execution_count": 30,
      "outputs": [
        {
          "output_type": "execute_result",
          "data": {
            "text/plain": [
              "tensor([[1.0000, 0.0000, 0.0000, 0.0000],\n",
              "        [0.5142, 0.4858, 0.0000, 0.0000],\n",
              "        [0.3158, 0.3473, 0.3369, 0.0000],\n",
              "        [0.4655, 0.2187, 0.1458, 0.1700]], grad_fn=<SelectBackward0>)"
            ]
          },
          "metadata": {},
          "execution_count": 30
        }
      ]
    },
    {
      "cell_type": "code",
      "source": [
        "values = torch.matmul(attention, v)\n",
        "values.shape"
      ],
      "metadata": {
        "colab": {
          "base_uri": "https://localhost:8080/"
        },
        "id": "aon_cuHUm_mV",
        "outputId": "a8ed2d67-adcf-4b4d-bc7a-d0605c612be7"
      },
      "execution_count": 31,
      "outputs": [
        {
          "output_type": "execute_result",
          "data": {
            "text/plain": [
              "torch.Size([1, 8, 4, 64])"
            ]
          },
          "metadata": {},
          "execution_count": 31
        }
      ]
    },
    {
      "cell_type": "code",
      "source": [
        "import math"
      ],
      "metadata": {
        "id": "A7EMfaHPnMlo"
      },
      "execution_count": 32,
      "outputs": []
    },
    {
      "cell_type": "code",
      "source": [
        "def scaled_dot_product(q,k,v,mask=None):\n",
        "  d_k = q.size()[-1]\n",
        "  scaled = torch.matmul(q,k.transpose(-1,-2)) / math.sqrt(d_k)\n",
        "  if mask is not None:\n",
        "    scaled+=mask\n",
        "  attention = F.softmax(scaled,dim=-1)\n",
        "  values = torch.matmul(attention,v)\n",
        "  return values, attention"
      ],
      "metadata": {
        "id": "mjFgfMYuHUIe"
      },
      "execution_count": 35,
      "outputs": []
    },
    {
      "cell_type": "code",
      "source": [
        "values, attention = scaled_dot_product(q,k,v,mask=mask)"
      ],
      "metadata": {
        "id": "TsGXIVVEHxjf"
      },
      "execution_count": 36,
      "outputs": []
    },
    {
      "cell_type": "code",
      "source": [
        "attention.shape"
      ],
      "metadata": {
        "colab": {
          "base_uri": "https://localhost:8080/"
        },
        "id": "9IC8Daw8H3EN",
        "outputId": "5b9e2284-d8a1-4659-c802-68c23a39047d"
      },
      "execution_count": 37,
      "outputs": [
        {
          "output_type": "execute_result",
          "data": {
            "text/plain": [
              "torch.Size([1, 8, 4, 4])"
            ]
          },
          "metadata": {},
          "execution_count": 37
        }
      ]
    },
    {
      "cell_type": "code",
      "source": [
        "attention[0][0]"
      ],
      "metadata": {
        "colab": {
          "base_uri": "https://localhost:8080/"
        },
        "id": "ugPDJukiICLV",
        "outputId": "a2787bea-71f8-4978-a279-da845eae60a3"
      },
      "execution_count": 38,
      "outputs": [
        {
          "output_type": "execute_result",
          "data": {
            "text/plain": [
              "tensor([[1.0000, 0.0000, 0.0000, 0.0000],\n",
              "        [0.5142, 0.4858, 0.0000, 0.0000],\n",
              "        [0.3158, 0.3473, 0.3369, 0.0000],\n",
              "        [0.4655, 0.2187, 0.1458, 0.1700]], grad_fn=<SelectBackward0>)"
            ]
          },
          "metadata": {},
          "execution_count": 38
        }
      ]
    },
    {
      "cell_type": "code",
      "source": [
        "values = values.reshape(batch_size,sequence_length,num_heads*head_dim)"
      ],
      "metadata": {
        "id": "UYRJAR2IIEib"
      },
      "execution_count": 39,
      "outputs": []
    },
    {
      "cell_type": "code",
      "source": [
        "linear_layer = nn.Linear(d_model,d_model)"
      ],
      "metadata": {
        "id": "J2T64GKrIO_l"
      },
      "execution_count": 40,
      "outputs": []
    },
    {
      "cell_type": "code",
      "source": [
        "out = linear_layer(values)"
      ],
      "metadata": {
        "id": "OtnBsP3NIUlf"
      },
      "execution_count": 41,
      "outputs": []
    },
    {
      "cell_type": "code",
      "source": [
        "out.shape"
      ],
      "metadata": {
        "colab": {
          "base_uri": "https://localhost:8080/"
        },
        "id": "uDJ0skinIXI5",
        "outputId": "b84ab079-b779-4acf-fdb1-f1d2101b3f60"
      },
      "execution_count": 42,
      "outputs": [
        {
          "output_type": "execute_result",
          "data": {
            "text/plain": [
              "torch.Size([1, 4, 512])"
            ]
          },
          "metadata": {},
          "execution_count": 42
        }
      ]
    },
    {
      "cell_type": "code",
      "source": [
        "out"
      ],
      "metadata": {
        "colab": {
          "base_uri": "https://localhost:8080/"
        },
        "id": "sraPhhreIYBN",
        "outputId": "239c9d3e-bd26-46ae-fade-1d370a58604c"
      },
      "execution_count": 43,
      "outputs": [
        {
          "output_type": "execute_result",
          "data": {
            "text/plain": [
              "tensor([[[-0.1713, -0.7182, -0.1262,  ..., -0.5365,  0.4675, -0.0844],\n",
              "         [-0.0340, -0.1854,  0.1081,  ...,  0.0616, -0.0261, -0.2309],\n",
              "         [ 0.2515, -0.4457,  0.3090,  ..., -0.3428,  0.1374,  0.3158],\n",
              "         [ 0.1158, -0.0686,  0.4879,  ...,  0.0269,  0.4248,  0.1391]]],\n",
              "       grad_fn=<ViewBackward0>)"
            ]
          },
          "metadata": {},
          "execution_count": 43
        }
      ]
    },
    {
      "cell_type": "code",
      "source": [
        "class MultiHeadAttention(nn.Module):\n",
        "  def __init__(self,input_dim,d_model,num_heads):\n",
        "    super().__init__()\n",
        "    self.input_dim = input_dim\n",
        "    self.d_model = d_model\n",
        "    self.num_heads = num_heads\n",
        "    self.head_dim = d_model // num_heads\n",
        "    self.qkv_layer = nn.Linear(input_dim, 3* d_model)\n",
        "    self.linear_layer = nn.Linear(d_model,d_model)\n",
        "\n",
        "  def forward(self,x,mask=None):\n",
        "    batch_size, sequence_length, input_dim = x.size()\n",
        "    print(f'x.size(): {x.size()}')\n",
        "    qkv = self.qkv_layer(x)\n",
        "    print(f\"qkv.size(): {qkv.size()}\")\n",
        "    qkv = qkv.reshape(batch_size, sequence_length, self.num_heads, 3 * self.head_dim)\n",
        "    print(f\"qkv.size(): {qkv.size()}\")\n",
        "    qkv = qkv.permute(0, 2, 1, 3)\n",
        "    print(f\"qkv.size(): {qkv.size()}\")\n",
        "    q, k, v = qkv.chunk(3, dim=-1)\n",
        "    print(f\"q size: {q.size()}, k size: {k.size()}, v size: {v.size()}, \")\n",
        "    values, attention = scaled_dot_product(q, k, v, mask)\n",
        "    print(f\"values.size(): {values.size()}, attention.size:{ attention.size()} \")\n",
        "    values = values.reshape(batch_size, sequence_length, self.num_heads * self.head_dim)\n",
        "    print(f\"values.size(): {values.size()}\")\n",
        "    out = self.linear_layer(values)\n",
        "    print(f\"out.size(): {out.size()}\")\n",
        "    return out\n"
      ],
      "metadata": {
        "id": "V1YFNIORIaxZ"
      },
      "execution_count": 48,
      "outputs": []
    },
    {
      "cell_type": "code",
      "source": [
        "input_dim = 1024\n",
        "d_model = 512\n",
        "num_heads = 8\n",
        "\n",
        "batch_size = 30\n",
        "sequence_length = 5\n",
        "x = torch.randn( (batch_size, sequence_length, input_dim) )\n",
        "\n",
        "model = MultiHeadAttention(input_dim, d_model, num_heads)\n",
        "out = model.forward(x)"
      ],
      "metadata": {
        "colab": {
          "base_uri": "https://localhost:8080/"
        },
        "id": "PXqqpJByKTfp",
        "outputId": "985dae1c-af10-4939-82ec-1e440290bb42"
      },
      "execution_count": 49,
      "outputs": [
        {
          "output_type": "stream",
          "name": "stdout",
          "text": [
            "x.size(): torch.Size([30, 5, 1024])\n",
            "qkv.size(): torch.Size([30, 5, 1536])\n",
            "qkv.size(): torch.Size([30, 5, 8, 192])\n",
            "qkv.size(): torch.Size([30, 8, 5, 192])\n",
            "q size: torch.Size([30, 8, 5, 64]), k size: torch.Size([30, 8, 5, 64]), v size: torch.Size([30, 8, 5, 64]), \n",
            "values.size(): torch.Size([30, 8, 5, 64]), attention.size:torch.Size([30, 8, 5, 5]) \n",
            "values.size(): torch.Size([30, 5, 512])\n",
            "out.size(): torch.Size([30, 5, 512])\n"
          ]
        }
      ]
    },
    {
      "cell_type": "code",
      "source": [
        ""
      ],
      "metadata": {
        "id": "5gTO-z1NKf7r"
      },
      "execution_count": null,
      "outputs": []
    }
  ]
}