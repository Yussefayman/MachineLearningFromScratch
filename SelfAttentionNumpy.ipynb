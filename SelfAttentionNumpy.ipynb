{
  "nbformat": 4,
  "nbformat_minor": 0,
  "metadata": {
    "colab": {
      "provenance": [],
      "authorship_tag": "ABX9TyOJm174H9Dla6bQJo5D/PqO"
    },
    "kernelspec": {
      "name": "python3",
      "display_name": "Python 3"
    },
    "language_info": {
      "name": "python"
    }
  },
  "cells": [
    {
      "cell_type": "code",
      "execution_count": 2,
      "metadata": {
        "id": "dXxyj8iMmV_L"
      },
      "outputs": [],
      "source": [
        "import numpy as np\n",
        "import math"
      ]
    },
    {
      "cell_type": "code",
      "source": [
        "L,d_k,d_v = 4,8,8\n",
        "q = np.random.randn(L,d_k)\n",
        "k = np.random.randn(L,d_k)\n",
        "v = np.random.randn(L,d_v)"
      ],
      "metadata": {
        "id": "NMKE7ueRmkNo"
      },
      "execution_count": 3,
      "outputs": []
    },
    {
      "cell_type": "markdown",
      "source": [
        "Q: What I'm looking For?<br>\n",
        "K: What I can offer?<br>\n",
        "V: What I actually offer?"
      ],
      "metadata": {
        "id": "Dp81nnfknU97"
      }
    },
    {
      "cell_type": "code",
      "source": [
        "print(\"Q\\n\", q)\n",
        "print(\"K\\n\", k)\n",
        "print(\"V\\n\", v)"
      ],
      "metadata": {
        "colab": {
          "base_uri": "https://localhost:8080/"
        },
        "id": "LwaYlWxPnJaW",
        "outputId": "f58f5fca-19fc-42cd-8210-cbd437f6a49a"
      },
      "execution_count": 4,
      "outputs": [
        {
          "output_type": "stream",
          "name": "stdout",
          "text": [
            "Q\n",
            " [[-0.12910698  0.73864953  0.33297499 -0.75307611 -1.13002255 -0.68198012\n",
            "   1.31837293 -0.79915987]\n",
            " [-1.03591611 -1.67535719 -0.82257477 -0.78754226 -0.02720394 -0.68176828\n",
            "   0.56084084  0.73459063]\n",
            " [ 0.17686493  0.40980959  0.20704985  1.53571987  0.92087811  0.1201056\n",
            "  -0.25029803  0.22677105]\n",
            " [-0.34363031  0.18486712  1.41522444 -0.91354706  1.40524207 -1.30139658\n",
            "   1.03811423 -0.20485255]]\n",
            "K\n",
            " [[-0.96095415  0.33023474 -0.29941719  1.12783158  1.33238693  2.09740203\n",
            "   1.1006317   0.85645483]\n",
            " [ 0.19013953 -0.05582271  0.33228049  0.23907953  1.49909388  0.72421307\n",
            "   0.21041058  0.23239837]\n",
            " [-1.4991445   1.65444269  0.00455148 -0.51335059 -0.87699558  0.01436565\n",
            "   0.15952534 -0.69890054]\n",
            " [-0.31638517 -1.16131167 -0.41439652 -1.18110866 -0.78148025  1.88167268\n",
            "   1.56191176 -0.55287531]]\n",
            "V\n",
            " [[ 0.10291552 -0.51908749  1.98221311  0.92311307 -1.10624456  0.34501014\n",
            "   0.87294412 -0.23038233]\n",
            " [-0.28364959 -0.71470854 -0.053116    1.12903809 -1.48177544  0.53803537\n",
            "   0.84040972  0.31233458]\n",
            " [ 0.2233156  -0.2172259   0.82325802  1.55560483 -2.31980406 -0.29333901\n",
            "  -0.48229426 -0.36632722]\n",
            " [ 0.88173558 -0.21369979 -0.66675872  0.88187155 -0.38698604  0.18041773\n",
            "  -0.89486837  1.59750819]]\n"
          ]
        }
      ]
    },
    {
      "cell_type": "markdown",
      "source": [
        "## Self Attention"
      ],
      "metadata": {
        "id": "D1Dq530QoIWk"
      }
    },
    {
      "cell_type": "markdown",
      "source": [
        "$$ \\text{self attention} = \\text{softmax}\\bigg(\\frac{Q \\cdot K^T}{\\sqrt{d_k}} + M\\bigg) $$\n"
      ],
      "metadata": {
        "id": "0GJe_nFxn3ws"
      }
    },
    {
      "cell_type": "code",
      "source": [
        "np.matmul(q,k.T)"
      ],
      "metadata": {
        "colab": {
          "base_uri": "https://localhost:8080/"
        },
        "id": "daek7Tj4nL4I",
        "outputId": "c2d0d4c1-bcec-4c25-f20e-a535895b0a46"
      },
      "execution_count": 7,
      "outputs": [
        {
          "output_type": "execute_result",
          "data": {
            "text/plain": [
              "array([[-2.75046287, -2.2314184 ,  3.55378578,  2.03537112],\n",
              "       [-0.41948071, -0.81085865, -1.22812695,  2.75264693],\n",
              "       [ 3.03302225,  1.9142108 , -1.37885985, -3.44149504],\n",
              "       [-0.95289843,  1.51110776,  0.35410544, -1.42570512]])"
            ]
          },
          "metadata": {},
          "execution_count": 7
        }
      ]
    },
    {
      "cell_type": "code",
      "source": [
        "#why we need sqrt(d_k)\n",
        "q.var(), k.var(), np.matmul(q,k.T).var()"
      ],
      "metadata": {
        "colab": {
          "base_uri": "https://localhost:8080/"
        },
        "id": "bdyto4Jqo_mf",
        "outputId": "5438e228-bf22-407a-ab85-d94509c6a8ca"
      },
      "execution_count": 9,
      "outputs": [
        {
          "output_type": "execute_result",
          "data": {
            "text/plain": [
              "(0.7252784236163596, 0.9005697391102687, 4.448544014186415)"
            ]
          },
          "metadata": {},
          "execution_count": 9
        }
      ]
    },
    {
      "cell_type": "code",
      "source": [
        "scaled = (np.matmul(q,k.T) /  np.sqrt(d_k))"
      ],
      "metadata": {
        "id": "IVYBk6abpRRG"
      },
      "execution_count": 10,
      "outputs": []
    },
    {
      "cell_type": "code",
      "source": [
        "scaled"
      ],
      "metadata": {
        "colab": {
          "base_uri": "https://localhost:8080/"
        },
        "id": "x6daAEnXppMJ",
        "outputId": "7dc4eeee-c4cd-4da1-dc08-52895db24106"
      },
      "execution_count": 11,
      "outputs": [
        {
          "output_type": "execute_result",
          "data": {
            "text/plain": [
              "array([[-0.97243547, -0.78892554,  1.25645301,  0.71961236],\n",
              "       [-0.14830883, -0.28668182, -0.43420845,  0.97320766],\n",
              "       [ 1.0723353 ,  0.67677572, -0.48750057, -1.21675224],\n",
              "       [-0.33690047,  0.53425727,  0.12519518, -0.50406288]])"
            ]
          },
          "metadata": {},
          "execution_count": 11
        }
      ]
    },
    {
      "cell_type": "markdown",
      "source": [
        "What is M?"
      ],
      "metadata": {
        "id": "VpO9flkuprZT"
      }
    },
    {
      "cell_type": "markdown",
      "source": [
        "## Masking"
      ],
      "metadata": {
        "id": "godoCbhoqLgD"
      }
    },
    {
      "cell_type": "markdown",
      "source": [
        "- This is to ensure words don't get context from words generated in the future\n",
        "- Not required in the encoders, but required in the decoders"
      ],
      "metadata": {
        "id": "EJcOukbKqXaT"
      }
    },
    {
      "cell_type": "code",
      "source": [
        "mask = np.tril(np.ones((L,L)))"
      ],
      "metadata": {
        "id": "W0WTH-KZpqLr"
      },
      "execution_count": 14,
      "outputs": []
    },
    {
      "cell_type": "code",
      "source": [
        "mask[mask == 0] = -np.infty\n",
        "mask[mask == 1] = 0"
      ],
      "metadata": {
        "id": "fE_Qh3erqoN0"
      },
      "execution_count": 16,
      "outputs": []
    },
    {
      "cell_type": "code",
      "source": [
        "mask"
      ],
      "metadata": {
        "colab": {
          "base_uri": "https://localhost:8080/"
        },
        "id": "ai9lGN9RquRF",
        "outputId": "cc98a606-2d21-430a-fa6d-0b328474fce8"
      },
      "execution_count": 17,
      "outputs": [
        {
          "output_type": "execute_result",
          "data": {
            "text/plain": [
              "array([[  0., -inf, -inf, -inf],\n",
              "       [  0.,   0., -inf, -inf],\n",
              "       [  0.,   0.,   0., -inf],\n",
              "       [  0.,   0.,   0.,   0.]])"
            ]
          },
          "metadata": {},
          "execution_count": 17
        }
      ]
    },
    {
      "cell_type": "code",
      "source": [
        "scaled + mask"
      ],
      "metadata": {
        "colab": {
          "base_uri": "https://localhost:8080/"
        },
        "id": "2rl-a1Yrq7v7",
        "outputId": "e3cdbc05-31fb-43d5-9ec7-e3419ae8343d"
      },
      "execution_count": 18,
      "outputs": [
        {
          "output_type": "execute_result",
          "data": {
            "text/plain": [
              "array([[-0.97243547,        -inf,        -inf,        -inf],\n",
              "       [-0.14830883, -0.28668182,        -inf,        -inf],\n",
              "       [ 1.0723353 ,  0.67677572, -0.48750057,        -inf],\n",
              "       [-0.33690047,  0.53425727,  0.12519518, -0.50406288]])"
            ]
          },
          "metadata": {},
          "execution_count": 18
        }
      ]
    },
    {
      "cell_type": "markdown",
      "source": [
        "## Softmax"
      ],
      "metadata": {
        "id": "7waiI_LerJ1W"
      }
    },
    {
      "cell_type": "markdown",
      "source": [
        "$$ \\text{softmax} = \\frac{e^{x_i}}{\\sum_j e^{x_j}} $$\n"
      ],
      "metadata": {
        "id": "v7l4BcTTrVWD"
      }
    },
    {
      "cell_type": "code",
      "source": [
        "def softmax(x):\n",
        "  return (np.exp(x).T / np.sum(np.exp(x),axis=-1)).T"
      ],
      "metadata": {
        "id": "f3zliDuiq_6c"
      },
      "execution_count": 20,
      "outputs": []
    },
    {
      "cell_type": "code",
      "source": [
        "attention = softmax(scaled+mask)"
      ],
      "metadata": {
        "id": "VsPyUfqArwd4"
      },
      "execution_count": 21,
      "outputs": []
    },
    {
      "cell_type": "code",
      "source": [
        "new_v = np.matmul(attention,v)"
      ],
      "metadata": {
        "id": "4wUMjgTyr1_Y"
      },
      "execution_count": 23,
      "outputs": []
    },
    {
      "cell_type": "code",
      "source": [
        "new_v"
      ],
      "metadata": {
        "colab": {
          "base_uri": "https://localhost:8080/"
        },
        "id": "1No0MEoVr3Oo",
        "outputId": "e4c43604-c279-448d-e110-c2a8e3028335"
      },
      "execution_count": 24,
      "outputs": [
        {
          "output_type": "execute_result",
          "data": {
            "text/plain": [
              "array([[ 0.10291552, -0.51908749,  1.98221311,  0.92311307, -1.10624456,\n",
              "         0.34501014,  0.87294412, -0.23038233],\n",
              "       [-0.07701579, -0.61014162,  1.03484507,  1.01896331, -1.28103986,\n",
              "         0.43485602,  0.8578006 ,  0.02223168],\n",
              "       [-0.02183852, -0.55533426,  1.12530082,  1.06730469, -1.3759062 ,\n",
              "         0.34278144,  0.7100872 , -0.05154183],\n",
              "       [ 0.09025698, -0.47270692,  0.44615161,  1.17404607, -1.48666858,\n",
              "         0.2262938 ,  0.23330115,  0.22085707]])"
            ]
          },
          "metadata": {},
          "execution_count": 24
        }
      ]
    },
    {
      "cell_type": "code",
      "source": [
        "v"
      ],
      "metadata": {
        "colab": {
          "base_uri": "https://localhost:8080/"
        },
        "id": "DnMFbIItsDiR",
        "outputId": "2c54c9f9-a78e-442d-e3c2-6b4882a1eb70"
      },
      "execution_count": 25,
      "outputs": [
        {
          "output_type": "execute_result",
          "data": {
            "text/plain": [
              "array([[ 0.10291552, -0.51908749,  1.98221311,  0.92311307, -1.10624456,\n",
              "         0.34501014,  0.87294412, -0.23038233],\n",
              "       [-0.28364959, -0.71470854, -0.053116  ,  1.12903809, -1.48177544,\n",
              "         0.53803537,  0.84040972,  0.31233458],\n",
              "       [ 0.2233156 , -0.2172259 ,  0.82325802,  1.55560483, -2.31980406,\n",
              "        -0.29333901, -0.48229426, -0.36632722],\n",
              "       [ 0.88173558, -0.21369979, -0.66675872,  0.88187155, -0.38698604,\n",
              "         0.18041773, -0.89486837,  1.59750819]])"
            ]
          },
          "metadata": {},
          "execution_count": 25
        }
      ]
    },
    {
      "cell_type": "code",
      "source": [
        "def scaled_dot_product_attention(q,k,v,mask=None):\n",
        "  d_k = q.shape[-1]\n",
        "  scaled = np.matmul(q,k.T)/math.sqrt(d_k)\n",
        "  if mask is not None:\n",
        "    scaled = scaled + mask\n",
        "  attention = softmax(scaled)\n",
        "  out = np.matmul(attention,v)\n",
        "  return out, attention"
      ],
      "metadata": {
        "id": "WS81VsMHsa7D"
      },
      "execution_count": 26,
      "outputs": []
    },
    {
      "cell_type": "code",
      "source": [],
      "metadata": {
        "id": "VyP7DiZstAs_"
      },
      "execution_count": null,
      "outputs": []
    }
  ]
}