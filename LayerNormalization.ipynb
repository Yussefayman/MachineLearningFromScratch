{
  "nbformat": 4,
  "nbformat_minor": 0,
  "metadata": {
    "colab": {
      "provenance": [],
      "authorship_tag": "ABX9TyMnacodwc2Nn3Hrou/nm/ic"
    },
    "kernelspec": {
      "name": "python3",
      "display_name": "Python 3"
    },
    "language_info": {
      "name": "python"
    }
  },
  "cells": [
    {
      "cell_type": "code",
      "execution_count": 1,
      "metadata": {
        "id": "wI1GToY66asD"
      },
      "outputs": [],
      "source": [
        "import torch\n",
        "from torch import nn"
      ]
    },
    {
      "cell_type": "code",
      "source": [
        "inputs = torch.tensor([[[0.2,0.1,0.3],[0.5,0.1,0.1]]])\n",
        "B,S,E = inputs.size()\n",
        "inputs = inputs.reshape(S,B,E)\n",
        "inputs.size()"
      ],
      "metadata": {
        "colab": {
          "base_uri": "https://localhost:8080/"
        },
        "id": "NnDCoTib60wu",
        "outputId": "78c22332-9b88-4ae5-8c38-7773100ac714"
      },
      "execution_count": 2,
      "outputs": [
        {
          "output_type": "execute_result",
          "data": {
            "text/plain": [
              "torch.Size([2, 1, 3])"
            ]
          },
          "metadata": {},
          "execution_count": 2
        }
      ]
    },
    {
      "cell_type": "code",
      "source": [
        "parameter_shape = inputs.size()[-2:]\n",
        "parameter_shape"
      ],
      "metadata": {
        "colab": {
          "base_uri": "https://localhost:8080/"
        },
        "id": "9AEVK-6T7GCX",
        "outputId": "63c9e01b-f62f-421f-f2fe-0a01aef6d00f"
      },
      "execution_count": 3,
      "outputs": [
        {
          "output_type": "execute_result",
          "data": {
            "text/plain": [
              "torch.Size([1, 3])"
            ]
          },
          "metadata": {},
          "execution_count": 3
        }
      ]
    },
    {
      "cell_type": "code",
      "source": [
        "gamma = nn.Parameter(torch.ones(parameter_shape))\n",
        "beta = nn.Parameter(torch.zeros(parameter_shape))"
      ],
      "metadata": {
        "id": "3GiutLm97NzZ"
      },
      "execution_count": 4,
      "outputs": []
    },
    {
      "cell_type": "code",
      "source": [
        "dims = [-(i+1) for i in range(len(parameter_shape))]\n",
        "dims"
      ],
      "metadata": {
        "colab": {
          "base_uri": "https://localhost:8080/"
        },
        "id": "6v6Jvwwt7bHu",
        "outputId": "e669f5e0-a7f3-4939-9785-31fef51e5b6e"
      },
      "execution_count": 5,
      "outputs": [
        {
          "output_type": "execute_result",
          "data": {
            "text/plain": [
              "[-1, -2]"
            ]
          },
          "metadata": {},
          "execution_count": 5
        }
      ]
    },
    {
      "cell_type": "code",
      "source": [
        "mean = inputs.mean(dim=dims,keepdim=True)\n",
        "mean.size()"
      ],
      "metadata": {
        "colab": {
          "base_uri": "https://localhost:8080/"
        },
        "id": "wDDp3azR8mrn",
        "outputId": "f742ca55-1ef1-4359-bb06-4611aef2a35f"
      },
      "execution_count": 6,
      "outputs": [
        {
          "output_type": "execute_result",
          "data": {
            "text/plain": [
              "torch.Size([2, 1, 1])"
            ]
          },
          "metadata": {},
          "execution_count": 6
        }
      ]
    },
    {
      "cell_type": "code",
      "source": [
        "mean"
      ],
      "metadata": {
        "colab": {
          "base_uri": "https://localhost:8080/"
        },
        "id": "3FlsSSTg8tVA",
        "outputId": "b059151f-4ffc-4bb4-e79c-ed33e6616412"
      },
      "execution_count": 7,
      "outputs": [
        {
          "output_type": "execute_result",
          "data": {
            "text/plain": [
              "tensor([[[0.2000]],\n",
              "\n",
              "        [[0.2333]]])"
            ]
          },
          "metadata": {},
          "execution_count": 7
        }
      ]
    },
    {
      "cell_type": "code",
      "source": [
        "var = ((inputs-mean)**2).mean(dim=dims,keepdim=True)\n",
        "eps = 1e-5\n",
        "std = (var+eps).sqrt()\n",
        "std"
      ],
      "metadata": {
        "colab": {
          "base_uri": "https://localhost:8080/"
        },
        "id": "p-t30NN_8u10",
        "outputId": "b3661b12-50a9-42e7-cabb-00f51c51a20a"
      },
      "execution_count": 8,
      "outputs": [
        {
          "output_type": "execute_result",
          "data": {
            "text/plain": [
              "tensor([[[0.0817]],\n",
              "\n",
              "        [[0.1886]]])"
            ]
          },
          "metadata": {},
          "execution_count": 8
        }
      ]
    },
    {
      "cell_type": "code",
      "source": [
        "y = (inputs-mean) / std\n",
        "y"
      ],
      "metadata": {
        "colab": {
          "base_uri": "https://localhost:8080/"
        },
        "id": "OBjgAkAo8-ze",
        "outputId": "e3b60245-e6b8-42c5-8c9d-dd64d17de18a"
      },
      "execution_count": 9,
      "outputs": [
        {
          "output_type": "execute_result",
          "data": {
            "text/plain": [
              "tensor([[[ 0.0000, -1.2238,  1.2238]],\n",
              "\n",
              "        [[ 1.4140, -0.7070, -0.7070]]])"
            ]
          },
          "metadata": {},
          "execution_count": 9
        }
      ]
    },
    {
      "cell_type": "code",
      "source": [
        "out = gamma*y + beta\n",
        "out"
      ],
      "metadata": {
        "colab": {
          "base_uri": "https://localhost:8080/"
        },
        "id": "HkTG4z1F9HvC",
        "outputId": "c4085015-1906-48be-e4e1-b0fdfff5afb9"
      },
      "execution_count": 10,
      "outputs": [
        {
          "output_type": "execute_result",
          "data": {
            "text/plain": [
              "tensor([[[ 0.0000, -1.2238,  1.2238]],\n",
              "\n",
              "        [[ 1.4140, -0.7070, -0.7070]]], grad_fn=<AddBackward0>)"
            ]
          },
          "metadata": {},
          "execution_count": 10
        }
      ]
    },
    {
      "cell_type": "code",
      "source": [
        "class LayerNormalization():\n",
        "  def __init__(self,parameters_shape,eps=1e-5):\n",
        "    self.parameters_shape = parameters_shape\n",
        "    self.eps = eps\n",
        "    self.gamma = nn.Parameter(torch.ones(parameters_shape))\n",
        "    self.beta = nn.Parameter(torch.zeros(parameters_shape))\n",
        "\n",
        "  def forward(self,input):\n",
        "    dims = [-(i+1) for i in range(len(self.parameters_shape))]\n",
        "    mean = inputs.mean(dim=dims,keepdim=True)\n",
        "    print(f\"Mean \\n ({mean.size()}): \\n {mean}\")\n",
        "    var = ((inputs - mean) ** 2).mean(dim=dims, keepdim=True)\n",
        "    std = (var + self.eps).sqrt()\n",
        "    print(f\"Standard Deviation \\n ({std.size()}): \\n {std}\")\n",
        "    y = (inputs - mean) / std\n",
        "    print(f\"y \\n ({y.size()}) = \\n {y}\")\n",
        "    out = self.gamma * y  + self.beta\n",
        "    print(f\"out \\n ({out.size()}) = \\n {out}\")\n",
        "    return out"
      ],
      "metadata": {
        "id": "NUYTEofp9L8x"
      },
      "execution_count": 16,
      "outputs": []
    },
    {
      "cell_type": "code",
      "source": [
        "batch_size = 3\n",
        "sentence_length = 5\n",
        "embedding_dim = 8\n",
        "inputs = torch.randn(sentence_length,batch_size,embedding_dim)\n",
        "\n",
        "print(f'input \\n {inputs.size()}\\n{inputs}')"
      ],
      "metadata": {
        "colab": {
          "base_uri": "https://localhost:8080/"
        },
        "id": "b3Yd0RjA-JDl",
        "outputId": "9016f65b-a1ad-4de6-85e5-c0230691a7f7"
      },
      "execution_count": 17,
      "outputs": [
        {
          "output_type": "stream",
          "name": "stdout",
          "text": [
            "input \n",
            " torch.Size([5, 3, 8])\n",
            "tensor([[[-0.0186,  0.7067,  1.0500,  0.7115,  0.0642, -0.8604,  0.1520,\n",
            "          -0.1059],\n",
            "         [-0.2389,  0.4846,  0.7832,  0.2635, -2.3290, -0.6923, -0.5436,\n",
            "           0.6404],\n",
            "         [ 1.6757, -0.0886, -1.8967, -1.8074,  1.1558,  0.9557,  0.4913,\n",
            "           0.6863]],\n",
            "\n",
            "        [[-0.5653,  2.0701, -0.0212, -0.1861, -0.3762, -1.4399,  0.5570,\n",
            "          -0.8231],\n",
            "         [-0.5038, -1.8305, -1.0819, -0.3513, -1.4983, -0.1878,  0.1926,\n",
            "           0.2190],\n",
            "         [ 0.0149, -0.0478,  0.5331, -0.4340, -1.2153, -0.2537, -0.1833,\n",
            "          -0.5333]],\n",
            "\n",
            "        [[ 0.9365, -1.3430,  1.3763,  2.0535, -0.9733,  1.6686,  0.1056,\n",
            "          -0.7949],\n",
            "         [-1.0997,  0.3988,  1.0758, -1.1210, -0.4448,  0.2521,  0.2425,\n",
            "           0.2141],\n",
            "         [ 0.1275,  0.2695, -1.3084,  1.1996, -0.0646, -0.4031, -0.2442,\n",
            "           0.7629]],\n",
            "\n",
            "        [[ 0.7058, -0.5934,  0.5076,  0.4231, -0.8268, -0.1855,  0.0362,\n",
            "           0.5244],\n",
            "         [-0.1671, -0.1527,  1.0422,  1.0998,  0.0637, -0.2919,  0.5565,\n",
            "          -1.5361],\n",
            "         [-0.1572,  0.9853, -0.1787,  1.5432, -0.9659, -0.5550, -0.4642,\n",
            "          -0.4063]],\n",
            "\n",
            "        [[ 0.3608, -0.1783,  0.2840, -2.4729, -0.7121, -0.3562,  1.1172,\n",
            "           0.1151],\n",
            "         [ 1.3127,  1.6247, -1.0891, -1.1924, -0.6871, -0.2539, -0.2274,\n",
            "           0.3713],\n",
            "         [-0.5779, -0.2772, -1.6370,  0.5575, -0.2090, -0.4376, -0.5813,\n",
            "          -0.4119]]])\n"
          ]
        }
      ]
    },
    {
      "cell_type": "code",
      "source": [
        "layer_norm = LayerNormalization(inputs.size()[-1:])"
      ],
      "metadata": {
        "id": "iFcjup_O-YFJ"
      },
      "execution_count": 18,
      "outputs": []
    },
    {
      "cell_type": "code",
      "source": [
        "out = layer_norm.forward(inputs)"
      ],
      "metadata": {
        "colab": {
          "base_uri": "https://localhost:8080/"
        },
        "id": "WnUwDwGQ-5J0",
        "outputId": "ec1a26e5-6168-4b1e-a0f5-a3edcf1dd958"
      },
      "execution_count": 19,
      "outputs": [
        {
          "output_type": "stream",
          "name": "stdout",
          "text": [
            "Mean \n",
            " (torch.Size([5, 3, 1])): \n",
            " tensor([[[ 0.2124],\n",
            "         [-0.2040],\n",
            "         [ 0.1465]],\n",
            "\n",
            "        [[-0.0981],\n",
            "         [-0.6303],\n",
            "         [-0.2649]],\n",
            "\n",
            "        [[ 0.3787],\n",
            "         [-0.0603],\n",
            "         [ 0.0424]],\n",
            "\n",
            "        [[ 0.0739],\n",
            "         [ 0.0768],\n",
            "         [-0.0249]],\n",
            "\n",
            "        [[-0.2303],\n",
            "         [-0.0177],\n",
            "         [-0.4468]]])\n",
            "Standard Deviation \n",
            " (torch.Size([5, 3, 1])): \n",
            " tensor([[[0.5619],\n",
            "         [0.9520],\n",
            "         [1.2485]],\n",
            "\n",
            "        [[0.9852],\n",
            "         [0.7147],\n",
            "         [0.4708]],\n",
            "\n",
            "        [[1.2258],\n",
            "         [0.7176],\n",
            "         [0.7101]],\n",
            "\n",
            "        [[0.5289],\n",
            "         [0.7952],\n",
            "         [0.7926]],\n",
            "\n",
            "        [[0.9893],\n",
            "         [0.9807],\n",
            "         [0.5643]]])\n",
            "y \n",
            " (torch.Size([5, 3, 8])) = \n",
            " tensor([[[-0.4111,  0.8796,  1.4904,  0.8881, -0.2638, -1.9092, -0.1075,\n",
            "          -0.5665],\n",
            "         [-0.0366,  0.7233,  1.0370,  0.4911, -2.2320, -0.5129, -0.3567,\n",
            "           0.8869],\n",
            "         [ 1.2248, -0.1883, -1.6365, -1.5650,  0.8084,  0.6481,  0.2762,\n",
            "           0.4323]],\n",
            "\n",
            "        [[-0.4742,  2.2006,  0.0781, -0.0893, -0.2823, -1.3619,  0.6649,\n",
            "          -0.7359],\n",
            "         [ 0.1769, -1.6794, -0.6320,  0.3903, -1.2146,  0.6191,  1.1513,\n",
            "           1.1884],\n",
            "         [ 0.5943,  0.4612,  1.6952, -0.3591, -2.0188,  0.0238,  0.1734,\n",
            "          -0.5701]],\n",
            "\n",
            "        [[ 0.4551, -1.4046,  0.8139,  1.3664, -1.1030,  1.0524, -0.2228,\n",
            "          -0.9575],\n",
            "         [-1.4485,  0.6398,  1.5832, -1.4782, -0.5358,  0.4353,  0.4219,\n",
            "           0.3824],\n",
            "         [ 0.1198,  0.3199, -1.9023,  1.6296, -0.1506, -0.6274, -0.4036,\n",
            "           1.0147]],\n",
            "\n",
            "        [[ 1.1947, -1.2619,  0.8201,  0.6603, -1.7031, -0.4905, -0.0713,\n",
            "           0.8518],\n",
            "         [-0.3067, -0.2887,  1.2141,  1.2865, -0.0165, -0.4636,  0.6033,\n",
            "          -2.0284],\n",
            "         [-0.1670,  1.2745, -0.1942,  1.9783, -1.1873, -0.6688, -0.5543,\n",
            "          -0.4813]],\n",
            "\n",
            "        [[ 0.5975,  0.0525,  0.5199, -2.2670, -0.4870, -0.1272,  1.3622,\n",
            "           0.3491],\n",
            "         [ 1.3565,  1.6746, -1.0925, -1.1978, -0.6826, -0.2409, -0.2139,\n",
            "           0.3966],\n",
            "         [-0.2323,  0.3006, -2.1093,  1.7798,  0.4215,  0.0163, -0.2385,\n",
            "           0.0619]]])\n",
            "out \n",
            " (torch.Size([5, 3, 8])) = \n",
            " tensor([[[-0.4111,  0.8796,  1.4904,  0.8881, -0.2638, -1.9092, -0.1075,\n",
            "          -0.5665],\n",
            "         [-0.0366,  0.7233,  1.0370,  0.4911, -2.2320, -0.5129, -0.3567,\n",
            "           0.8869],\n",
            "         [ 1.2248, -0.1883, -1.6365, -1.5650,  0.8084,  0.6481,  0.2762,\n",
            "           0.4323]],\n",
            "\n",
            "        [[-0.4742,  2.2006,  0.0781, -0.0893, -0.2823, -1.3619,  0.6649,\n",
            "          -0.7359],\n",
            "         [ 0.1769, -1.6794, -0.6320,  0.3903, -1.2146,  0.6191,  1.1513,\n",
            "           1.1884],\n",
            "         [ 0.5943,  0.4612,  1.6952, -0.3591, -2.0188,  0.0238,  0.1734,\n",
            "          -0.5701]],\n",
            "\n",
            "        [[ 0.4551, -1.4046,  0.8139,  1.3664, -1.1030,  1.0524, -0.2228,\n",
            "          -0.9575],\n",
            "         [-1.4485,  0.6398,  1.5832, -1.4782, -0.5358,  0.4353,  0.4219,\n",
            "           0.3824],\n",
            "         [ 0.1198,  0.3199, -1.9023,  1.6296, -0.1506, -0.6274, -0.4036,\n",
            "           1.0147]],\n",
            "\n",
            "        [[ 1.1947, -1.2619,  0.8201,  0.6603, -1.7031, -0.4905, -0.0713,\n",
            "           0.8518],\n",
            "         [-0.3067, -0.2887,  1.2141,  1.2865, -0.0165, -0.4636,  0.6033,\n",
            "          -2.0284],\n",
            "         [-0.1670,  1.2745, -0.1942,  1.9783, -1.1873, -0.6688, -0.5543,\n",
            "          -0.4813]],\n",
            "\n",
            "        [[ 0.5975,  0.0525,  0.5199, -2.2670, -0.4870, -0.1272,  1.3622,\n",
            "           0.3491],\n",
            "         [ 1.3565,  1.6746, -1.0925, -1.1978, -0.6826, -0.2409, -0.2139,\n",
            "           0.3966],\n",
            "         [-0.2323,  0.3006, -2.1093,  1.7798,  0.4215,  0.0163, -0.2385,\n",
            "           0.0619]]], grad_fn=<AddBackward0>)\n"
          ]
        }
      ]
    },
    {
      "cell_type": "code",
      "source": [
        "out[0].mean(),out[0].std()"
      ],
      "metadata": {
        "colab": {
          "base_uri": "https://localhost:8080/"
        },
        "id": "7NnRghuJ-7bL",
        "outputId": "eaf76771-a748-4f1c-ae71-8e342858dd24"
      },
      "execution_count": 20,
      "outputs": [
        {
          "output_type": "execute_result",
          "data": {
            "text/plain": [
              "(tensor(-2.4835e-09, grad_fn=<MeanBackward0>),\n",
              " tensor(1.0215, grad_fn=<StdBackward0>))"
            ]
          },
          "metadata": {},
          "execution_count": 20
        }
      ]
    },
    {
      "cell_type": "code",
      "source": [],
      "metadata": {
        "id": "1DNCwJjO_IS7"
      },
      "execution_count": null,
      "outputs": []
    }
  ]
}