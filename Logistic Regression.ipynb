{
 "cells": [
  {
   "cell_type": "code",
   "execution_count": 2,
   "metadata": {},
   "outputs": [],
   "source": [
    "import numpy as np\n",
    "from sklearn import datasets\n",
    "from sklearn.model_selection import train_test_split\n",
    "import matplotlib.pyplot as plt"
   ]
  },
  {
   "cell_type": "code",
   "execution_count": 7,
   "metadata": {},
   "outputs": [],
   "source": [
    "class Logistic_Regression:\n",
    "    def __init__(self,lr=0.01,epochs=1000):\n",
    "        self.lr = lr\n",
    "        self.epochs = epochs\n",
    "        self.weights = None\n",
    "        self.bias = 0\n",
    "    def fit(self,X,y):\n",
    "        n_samples,n_features = X.shape\n",
    "        self.weights = np.random.rand(n_features)\n",
    "        self.bias = np.random.rand(1)\n",
    "        for _ in range(self.epochs):\n",
    "            linear_model = np.dot(X,self.weights)+self.bias\n",
    "            y_pred = self._sigmoid(linear_model)\n",
    "            dw = np.dot(X.T,(y_pred-y))*(1/n_samples)\n",
    "            db = np.sum(y_pred-y)*(1/n_samples)\n",
    "            self.weights -= dw*self.lr\n",
    "            self.bias -= db*self.lr\n",
    "            \n",
    "    def predict(self,X):\n",
    "        y_pred = np.dot(X,self.weights)+self.bias\n",
    "        y_pred_cls = self._sigmoid(X)\n",
    "        y_classes = [1 if i >= 0.5 else 0 for i in y_pred]\n",
    "        return y_classes\n",
    "    def _sigmoid(self,x):\n",
    "        return 1/(1+np.exp(-x))\n",
    "        \n",
    "        "
   ]
  },
  {
   "cell_type": "code",
   "execution_count": 17,
   "metadata": {},
   "outputs": [],
   "source": [
    "bc = datasets.load_breast_cancer()\n",
    "X,y = bc.data,bc.target\n",
    "X_train,X_test,y_train,y_test = train_test_split(X,y,test_size = 0.2,random_state = 1)"
   ]
  },
  {
   "cell_type": "code",
   "execution_count": 18,
   "metadata": {},
   "outputs": [
    {
     "name": "stdout",
     "output_type": "stream",
     "text": [
      "0.9210526315789473\n"
     ]
    },
    {
     "name": "stderr",
     "output_type": "stream",
     "text": [
      "C:\\Users\\Yousef\\Anaconda3\\lib\\site-packages\\ipykernel\\__main__.py:25: RuntimeWarning: overflow encountered in exp\n"
     ]
    }
   ],
   "source": [
    "lr_model = Logistic_Regression()\n",
    "lr_model.fit(X_train,y_train)\n",
    "predictions = lr_model.predict(X_test)\n",
    "acc = np.sum(predictions == y_test)/len(y_test)\n",
    "print(acc)"
   ]
  },
  {
   "cell_type": "code",
   "execution_count": null,
   "metadata": {},
   "outputs": [],
   "source": []
  },
  {
   "cell_type": "code",
   "execution_count": null,
   "metadata": {},
   "outputs": [],
   "source": []
  }
 ],
 "metadata": {
  "kernelspec": {
   "display_name": "Python [default]",
   "language": "python",
   "name": "python3"
  },
  "language_info": {
   "codemirror_mode": {
    "name": "ipython",
    "version": 3
   },
   "file_extension": ".py",
   "mimetype": "text/x-python",
   "name": "python",
   "nbconvert_exporter": "python",
   "pygments_lexer": "ipython3",
   "version": "3.6.4"
  }
 },
 "nbformat": 4,
 "nbformat_minor": 2
}
