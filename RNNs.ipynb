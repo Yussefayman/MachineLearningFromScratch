{
  "nbformat": 4,
  "nbformat_minor": 0,
  "metadata": {
    "colab": {
      "provenance": [],
      "gpuType": "T4",
      "authorship_tag": "ABX9TyMqtqBO8ub5qPjdHtraGRSn",
      "include_colab_link": true
    },
    "kernelspec": {
      "name": "python3",
      "display_name": "Python 3"
    },
    "language_info": {
      "name": "python"
    },
    "accelerator": "GPU"
  },
  "cells": [
    {
      "cell_type": "markdown",
      "metadata": {
        "id": "view-in-github",
        "colab_type": "text"
      },
      "source": [
        "<a href=\"https://colab.research.google.com/github/Yussefayman/MachineLearningFromScratch/blob/main/RNNs.ipynb\" target=\"_parent\"><img src=\"https://colab.research.google.com/assets/colab-badge.svg\" alt=\"Open In Colab\"/></a>"
      ]
    },
    {
      "cell_type": "code",
      "execution_count": 1,
      "metadata": {
        "id": "BNL2cCgnBjGk"
      },
      "outputs": [],
      "source": [
        "import torch\n",
        "import torch.nn as nn\n",
        "import torchvision\n",
        "import torchvision.transforms as transforms"
      ]
    },
    {
      "cell_type": "code",
      "source": [
        "device = torch.device('cuda' if torch.cuda.is_available() else 'cpu')"
      ],
      "metadata": {
        "id": "IR2MnaiAB0Lx"
      },
      "execution_count": 3,
      "outputs": []
    },
    {
      "cell_type": "code",
      "source": [
        "num_classes = 10\n",
        "num_epochs = 2\n",
        "batch_size = 100\n",
        "lr = 0.001\n",
        "input_size = 28\n",
        "seq_len = 28\n",
        "hidden_size = 128\n",
        "num_layers = 2"
      ],
      "metadata": {
        "id": "Gs3BwjtzCALV"
      },
      "execution_count": 4,
      "outputs": []
    },
    {
      "cell_type": "code",
      "source": [
        "train_dataset = torchvision.datasets.MNIST(root='./data',train=True,transform=transforms.ToTensor(),download=True)\n",
        "test_dataset = torchvision.datasets.MNIST(root='./data',train=False,transform=transforms.ToTensor())"
      ],
      "metadata": {
        "id": "XtGaI_2rCSxH"
      },
      "execution_count": null,
      "outputs": []
    },
    {
      "cell_type": "code",
      "source": [
        "train_loader = torch.utils.data.DataLoader(dataset=train_dataset,batch_size=batch_size,shuffle=True)\n",
        "test_loader = torch.utils.data.DataLoader(dataset=test_dataset,batch_size=batch_size,shuffle=False)"
      ],
      "metadata": {
        "id": "2wLPND4ZCswW"
      },
      "execution_count": 11,
      "outputs": []
    },
    {
      "cell_type": "code",
      "source": [
        "class RNN(nn.Module):\n",
        "  def __init__(self,input_size,hidden_size,num_layers,num_classes):\n",
        "    super(RNN,self).__init__()\n",
        "    self.num_layers = num_layers\n",
        "    self.hidden_size = hidden_size\n",
        "    self.rnn = nn.RNN(input_size, hidden_size, num_layers,batch_first = True)\n",
        "    self.fc = nn.Linear(hidden_size,num_classes)\n",
        "\n",
        "  def forward(self,x):\n",
        "    h0 = torch.zeros(self.num_layers,x.size(0),self.hidden_size).to(device)\n",
        "    # out: (batch_size,seq_length,hidden_size)\n",
        "    # out: (100,28,128)\n",
        "    out,_ = self.rnn(x,h0)\n",
        "    #Decode the hidden state of the last time step\n",
        "    out = out[:,-1,:]\n",
        "    out = self.fc(out)\n",
        "    return out"
      ],
      "metadata": {
        "id": "Y4YUJ6dfEIAi"
      },
      "execution_count": 12,
      "outputs": []
    },
    {
      "cell_type": "code",
      "source": [
        "model = RNN(input_size,hidden_size,num_layers,num_classes).to(device)\n",
        "criterion = nn.CrossEntropyLoss()\n",
        "optimizer = torch.optim.Adam(model.parameters(),lr=lr)\n"
      ],
      "metadata": {
        "id": "7ciZ36H4G4Hh"
      },
      "execution_count": 13,
      "outputs": []
    },
    {
      "cell_type": "code",
      "source": [
        "n_total_steps = len(train_loader)\n",
        "for epoch in range(num_epochs):\n",
        "  for i,(images,labels) in enumerate(train_loader):\n",
        "    images = images.reshape(-1,seq_len,input_size).to(device)\n",
        "    labels = labels.to(device)\n",
        "\n",
        "    outputs = model(images)\n",
        "    loss = criterion(outputs,labels)\n",
        "\n",
        "    optimizer.zero_grad()\n",
        "    loss.backward()\n",
        "    optimizer.step()\n",
        "    if (i+1) % 100 == 0:\n",
        "      print (f'Epoch [{epoch+1}/{num_epochs}], Step [{i+1}/{n_total_steps}], Loss: {loss.item():.4f}')\n",
        ""
      ],
      "metadata": {
        "colab": {
          "base_uri": "https://localhost:8080/"
        },
        "id": "S8wqqYF3HJT5",
        "outputId": "b9280036-7afa-4388-e3e8-eac10fec7724"
      },
      "execution_count": 15,
      "outputs": [
        {
          "output_type": "stream",
          "name": "stdout",
          "text": [
            "Epoch [1/2], Step [100/600], Loss: 1.0151\n",
            "Epoch [1/2], Step [200/600], Loss: 0.6546\n",
            "Epoch [1/2], Step [300/600], Loss: 0.4936\n",
            "Epoch [1/2], Step [400/600], Loss: 0.4252\n",
            "Epoch [1/2], Step [500/600], Loss: 0.4596\n",
            "Epoch [1/2], Step [600/600], Loss: 0.3460\n",
            "Epoch [2/2], Step [100/600], Loss: 0.2359\n",
            "Epoch [2/2], Step [200/600], Loss: 0.2031\n",
            "Epoch [2/2], Step [300/600], Loss: 0.2234\n",
            "Epoch [2/2], Step [400/600], Loss: 0.2992\n",
            "Epoch [2/2], Step [500/600], Loss: 0.3383\n",
            "Epoch [2/2], Step [600/600], Loss: 0.2125\n"
          ]
        }
      ]
    },
    {
      "cell_type": "code",
      "source": [
        "with torch.no_grad():\n",
        "  n_correct = 0\n",
        "  n_samples = 0\n",
        "  for images,labels in test_loader:\n",
        "    images = images.reshape(-1,seq_len,input_size).to(device)\n",
        "    labels = labels.to(device)\n",
        "    outputs = model(images)\n",
        "    _, predicted = torch.max(outputs.data,1)\n",
        "    n_samples += labels.size(0)\n",
        "    n_correct += (predicted == labels).sum().item()\n",
        "\n",
        "  acc = 100.0 * n_correct / n_samples\n",
        "  print(f'Accuracy of the network on the 10000 test images: {acc} %')"
      ],
      "metadata": {
        "colab": {
          "base_uri": "https://localhost:8080/"
        },
        "id": "Z7bVE7JhHQzl",
        "outputId": "64b0a571-a1a2-41d3-b9fd-fa1e86d02564"
      },
      "execution_count": 16,
      "outputs": [
        {
          "output_type": "stream",
          "name": "stdout",
          "text": [
            "Accuracy of the network on the 10000 test images: 93.48 %\n"
          ]
        }
      ]
    },
    {
      "cell_type": "code",
      "source": [],
      "metadata": {
        "id": "vQaajEdfI3jT"
      },
      "execution_count": null,
      "outputs": []
    }
  ]
}