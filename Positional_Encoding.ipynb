{
  "nbformat": 4,
  "nbformat_minor": 0,
  "metadata": {
    "colab": {
      "provenance": [],
      "authorship_tag": "ABX9TyPi0JaQau5KpUR7p/Uu5hd+"
    },
    "kernelspec": {
      "name": "python3",
      "display_name": "Python 3"
    },
    "language_info": {
      "name": "python"
    }
  },
  "cells": [
    {
      "cell_type": "code",
      "execution_count": 1,
      "metadata": {
        "id": "YC86UYzMga7I"
      },
      "outputs": [],
      "source": [
        "import torch\n",
        "import torch.nn as nn"
      ]
    },
    {
      "cell_type": "code",
      "source": [
        "max_sequence_length = 10\n",
        "d_model = 6"
      ],
      "metadata": {
        "id": "gJF4-s0RhIlf"
      },
      "execution_count": 2,
      "outputs": []
    },
    {
      "cell_type": "markdown",
      "source": [
        "$$ PE(\\text{position}, 2i) = \\sin\\bigg( \\frac{ \\text{position} }{10000^\\frac{2i}{d_{\\text{model}}}} \\bigg) $$\n"
      ],
      "metadata": {
        "id": "TMy3j6sNhY2I"
      }
    },
    {
      "cell_type": "markdown",
      "source": [
        "$$ PE(\\text{position}, 2i+1) = \\cos\\bigg( \\frac{ \\text{position} }{10000^\\frac{2i}{d_{\\text{model}}}} \\bigg) $$\n"
      ],
      "metadata": {
        "id": "2rhDfad1hi_6"
      }
    },
    {
      "cell_type": "markdown",
      "source": [
        "$$ PE(\\text{position}, i) = \\begin{cases} \\sin\\bigg( \\frac{ \\text{position} }{10000^\\frac{i}{d_{\\text{model}}}} \\bigg) & \\text{when } i \\text{ is even} \\end{cases} $$\n"
      ],
      "metadata": {
        "id": "iYkvLzXqh7Nr"
      }
    },
    {
      "cell_type": "markdown",
      "source": [
        "$$ PE(\\text{position}, i) = \\begin{cases} \\cos\\bigg( \\frac{ \\text{position} }{10000^\\frac{i-1}{d_{\\text{model}}}} \\bigg) & \\text{when } i \\text{ is odd} \\end{cases} $$\n"
      ],
      "metadata": {
        "id": "XItn4DDkiAUW"
      }
    },
    {
      "cell_type": "code",
      "source": [
        "even_i = torch.arange(0,d_model,2).float()\n",
        "even_i"
      ],
      "metadata": {
        "colab": {
          "base_uri": "https://localhost:8080/"
        },
        "id": "RTY22vRZhOAl",
        "outputId": "cb1a8bbe-fb2f-4ca1-905b-53d149dbf207"
      },
      "execution_count": 3,
      "outputs": [
        {
          "output_type": "execute_result",
          "data": {
            "text/plain": [
              "tensor([0., 2., 4.])"
            ]
          },
          "metadata": {},
          "execution_count": 3
        }
      ]
    },
    {
      "cell_type": "code",
      "source": [
        "even_denom = torch.pow(10000,even_i/d_model)\n",
        "even_denom"
      ],
      "metadata": {
        "colab": {
          "base_uri": "https://localhost:8080/"
        },
        "id": "RHuw8SOEi6Cw",
        "outputId": "7aa7f8ac-d6ae-4b6d-b3cf-425fe615d1a5"
      },
      "execution_count": 4,
      "outputs": [
        {
          "output_type": "execute_result",
          "data": {
            "text/plain": [
              "tensor([  1.0000,  21.5443, 464.1590])"
            ]
          },
          "metadata": {},
          "execution_count": 4
        }
      ]
    },
    {
      "cell_type": "code",
      "source": [
        "odd_i = torch.arange(1,d_model,2).float()\n",
        "odd_i"
      ],
      "metadata": {
        "colab": {
          "base_uri": "https://localhost:8080/"
        },
        "id": "nbYLMaX9jJXB",
        "outputId": "86530779-9f30-425d-8479-73edbb95f94c"
      },
      "execution_count": 5,
      "outputs": [
        {
          "output_type": "execute_result",
          "data": {
            "text/plain": [
              "tensor([1., 3., 5.])"
            ]
          },
          "metadata": {},
          "execution_count": 5
        }
      ]
    },
    {
      "cell_type": "code",
      "source": [
        "odd_denom = torch.pow(10000,(odd_i-1)/d_model)\n",
        "odd_denom"
      ],
      "metadata": {
        "colab": {
          "base_uri": "https://localhost:8080/"
        },
        "id": "6-5KGWTwjQxj",
        "outputId": "631853ea-b01f-45dc-aa99-9c630ac5bf73"
      },
      "execution_count": 8,
      "outputs": [
        {
          "output_type": "execute_result",
          "data": {
            "text/plain": [
              "tensor([  1.0000,  21.5443, 464.1590])"
            ]
          },
          "metadata": {},
          "execution_count": 8
        }
      ]
    },
    {
      "cell_type": "markdown",
      "source": [
        "Even denom and Odd denom are the same"
      ],
      "metadata": {
        "id": "V1-UlkPHjoFU"
      }
    },
    {
      "cell_type": "code",
      "source": [
        "denom = even_denom"
      ],
      "metadata": {
        "id": "1YiYL3hpjWp3"
      },
      "execution_count": 9,
      "outputs": []
    },
    {
      "cell_type": "code",
      "source": [
        "position = torch.arange(max_sequence_length,dtype=torch.float).reshape(max_sequence_length,1)"
      ],
      "metadata": {
        "id": "CUt8fk2djtha"
      },
      "execution_count": 10,
      "outputs": []
    },
    {
      "cell_type": "code",
      "source": [
        "position"
      ],
      "metadata": {
        "colab": {
          "base_uri": "https://localhost:8080/"
        },
        "id": "O0m3GFaCkKiD",
        "outputId": "56e54e18-d559-4bdd-d940-9d6759624c89"
      },
      "execution_count": 12,
      "outputs": [
        {
          "output_type": "execute_result",
          "data": {
            "text/plain": [
              "tensor([[0.],\n",
              "        [1.],\n",
              "        [2.],\n",
              "        [3.],\n",
              "        [4.],\n",
              "        [5.],\n",
              "        [6.],\n",
              "        [7.],\n",
              "        [8.],\n",
              "        [9.]])"
            ]
          },
          "metadata": {},
          "execution_count": 12
        }
      ]
    },
    {
      "cell_type": "code",
      "source": [
        "even_PE = torch.sin(position / denom)\n",
        "odd_PE = torch.cos(position / denom)"
      ],
      "metadata": {
        "id": "VFV9xo9skMKv"
      },
      "execution_count": 13,
      "outputs": []
    },
    {
      "cell_type": "code",
      "source": [
        "print(even_PE)\n",
        "print(even_PE.shape)"
      ],
      "metadata": {
        "colab": {
          "base_uri": "https://localhost:8080/"
        },
        "id": "0msqTIV_kia-",
        "outputId": "4f884e30-cc2c-4c6c-ccd2-4fcd01232fab"
      },
      "execution_count": 15,
      "outputs": [
        {
          "output_type": "stream",
          "name": "stdout",
          "text": [
            "tensor([[ 0.0000,  0.0000,  0.0000],\n",
            "        [ 0.8415,  0.0464,  0.0022],\n",
            "        [ 0.9093,  0.0927,  0.0043],\n",
            "        [ 0.1411,  0.1388,  0.0065],\n",
            "        [-0.7568,  0.1846,  0.0086],\n",
            "        [-0.9589,  0.2300,  0.0108],\n",
            "        [-0.2794,  0.2749,  0.0129],\n",
            "        [ 0.6570,  0.3192,  0.0151],\n",
            "        [ 0.9894,  0.3629,  0.0172],\n",
            "        [ 0.4121,  0.4057,  0.0194]])\n",
            "torch.Size([10, 3])\n"
          ]
        }
      ]
    },
    {
      "cell_type": "code",
      "source": [
        "odd_PE"
      ],
      "metadata": {
        "colab": {
          "base_uri": "https://localhost:8080/"
        },
        "id": "1zy-nJ4ekjPO",
        "outputId": "eac9db68-0ef0-4b65-84df-832bbb9c1b27"
      },
      "execution_count": 16,
      "outputs": [
        {
          "output_type": "execute_result",
          "data": {
            "text/plain": [
              "tensor([[ 1.0000,  1.0000,  1.0000],\n",
              "        [ 0.5403,  0.9989,  1.0000],\n",
              "        [-0.4161,  0.9957,  1.0000],\n",
              "        [-0.9900,  0.9903,  1.0000],\n",
              "        [-0.6536,  0.9828,  1.0000],\n",
              "        [ 0.2837,  0.9732,  0.9999],\n",
              "        [ 0.9602,  0.9615,  0.9999],\n",
              "        [ 0.7539,  0.9477,  0.9999],\n",
              "        [-0.1455,  0.9318,  0.9999],\n",
              "        [-0.9111,  0.9140,  0.9998]])"
            ]
          },
          "metadata": {},
          "execution_count": 16
        }
      ]
    },
    {
      "cell_type": "code",
      "source": [
        "odd_PE.shape"
      ],
      "metadata": {
        "colab": {
          "base_uri": "https://localhost:8080/"
        },
        "id": "fUJr0Ffts5N8",
        "outputId": "e47be1f9-f4c7-4740-cd4d-3d770bbe010b"
      },
      "execution_count": 19,
      "outputs": [
        {
          "output_type": "execute_result",
          "data": {
            "text/plain": [
              "torch.Size([10, 3])"
            ]
          },
          "metadata": {},
          "execution_count": 19
        }
      ]
    },
    {
      "cell_type": "code",
      "source": [
        "stacked = torch.stack([even_PE,odd_PE],dim=2)\n",
        "stacked.shape"
      ],
      "metadata": {
        "colab": {
          "base_uri": "https://localhost:8080/"
        },
        "id": "RiqWZkQsvVrb",
        "outputId": "3d8338c7-3f63-4694-9bf4-81e3315e0b44"
      },
      "execution_count": 20,
      "outputs": [
        {
          "output_type": "execute_result",
          "data": {
            "text/plain": [
              "torch.Size([10, 3, 2])"
            ]
          },
          "metadata": {},
          "execution_count": 20
        }
      ]
    },
    {
      "cell_type": "code",
      "source": [
        "PE = torch.flatten(stacked,start_dim=1,end_dim=2)\n",
        "PE"
      ],
      "metadata": {
        "colab": {
          "base_uri": "https://localhost:8080/"
        },
        "id": "SE13bziUv-O7",
        "outputId": "d1b73f1a-7e9f-483c-acef-c7feedba6179"
      },
      "execution_count": 22,
      "outputs": [
        {
          "output_type": "execute_result",
          "data": {
            "text/plain": [
              "tensor([[ 0.0000,  1.0000,  0.0000,  1.0000,  0.0000,  1.0000],\n",
              "        [ 0.8415,  0.5403,  0.0464,  0.9989,  0.0022,  1.0000],\n",
              "        [ 0.9093, -0.4161,  0.0927,  0.9957,  0.0043,  1.0000],\n",
              "        [ 0.1411, -0.9900,  0.1388,  0.9903,  0.0065,  1.0000],\n",
              "        [-0.7568, -0.6536,  0.1846,  0.9828,  0.0086,  1.0000],\n",
              "        [-0.9589,  0.2837,  0.2300,  0.9732,  0.0108,  0.9999],\n",
              "        [-0.2794,  0.9602,  0.2749,  0.9615,  0.0129,  0.9999],\n",
              "        [ 0.6570,  0.7539,  0.3192,  0.9477,  0.0151,  0.9999],\n",
              "        [ 0.9894, -0.1455,  0.3629,  0.9318,  0.0172,  0.9999],\n",
              "        [ 0.4121, -0.9111,  0.4057,  0.9140,  0.0194,  0.9998]])"
            ]
          },
          "metadata": {},
          "execution_count": 22
        }
      ]
    },
    {
      "cell_type": "code",
      "source": [
        "import torch\n",
        "import torch.nn as nn\n",
        "\n",
        "class PositionalEncoding(nn.Module):\n",
        "  def __init__(self,d_model,max_sequence_length):\n",
        "    super().__init__()\n",
        "    self.max_sequence_length = max_sequence_length\n",
        "    self.d_model = d_model\n",
        "\n",
        "  def forward(self):\n",
        "    even_i = torch.arange(0,self.d_model,2).float()\n",
        "    deno = torch.pow(10000,even_i/self.d_model)\n",
        "    pos = torch.arange(self.max_sequence_length).reshape(self.max_sequence_length,1)\n",
        "    even_PE = torch.sin(position / denom)\n",
        "    odd_PE = torch.cos(position / denom)\n",
        "    stacked = torch.stack([even_PE,odd_PE],dim=2)\n",
        "    PE = torch.flatten(stacked,start_dim=1,end_dim=2)\n",
        "    return PE\n"
      ],
      "metadata": {
        "id": "xavE1JuQwADg"
      },
      "execution_count": 23,
      "outputs": []
    },
    {
      "cell_type": "code",
      "source": [
        "pe = PositionalEncoding(d_model=6,max_sequence_length=10)\n",
        "pe.forward()"
      ],
      "metadata": {
        "colab": {
          "base_uri": "https://localhost:8080/"
        },
        "id": "6SHpt6JWzp_V",
        "outputId": "3542386f-2966-414b-bbb4-bbc97265c6c4"
      },
      "execution_count": 25,
      "outputs": [
        {
          "output_type": "execute_result",
          "data": {
            "text/plain": [
              "tensor([[ 0.0000,  1.0000,  0.0000,  1.0000,  0.0000,  1.0000],\n",
              "        [ 0.8415,  0.5403,  0.0464,  0.9989,  0.0022,  1.0000],\n",
              "        [ 0.9093, -0.4161,  0.0927,  0.9957,  0.0043,  1.0000],\n",
              "        [ 0.1411, -0.9900,  0.1388,  0.9903,  0.0065,  1.0000],\n",
              "        [-0.7568, -0.6536,  0.1846,  0.9828,  0.0086,  1.0000],\n",
              "        [-0.9589,  0.2837,  0.2300,  0.9732,  0.0108,  0.9999],\n",
              "        [-0.2794,  0.9602,  0.2749,  0.9615,  0.0129,  0.9999],\n",
              "        [ 0.6570,  0.7539,  0.3192,  0.9477,  0.0151,  0.9999],\n",
              "        [ 0.9894, -0.1455,  0.3629,  0.9318,  0.0172,  0.9999],\n",
              "        [ 0.4121, -0.9111,  0.4057,  0.9140,  0.0194,  0.9998]])"
            ]
          },
          "metadata": {},
          "execution_count": 25
        }
      ]
    },
    {
      "cell_type": "code",
      "source": [],
      "metadata": {
        "id": "txhUQ3Ydzy2j"
      },
      "execution_count": null,
      "outputs": []
    }
  ]
}